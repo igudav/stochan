{
 "cells": [
  {
   "cell_type": "markdown",
   "metadata": {},
   "source": [
    "Задание: https://paper.dropbox.com/doc/vQ0SBXmxWRUTX7E3p1spp"
   ]
  },
  {
   "cell_type": "code",
   "execution_count": 106,
   "metadata": {},
   "outputs": [],
   "source": [
    "import numpy as np\n",
    "import numpy.random as rnd\n",
    "import numpy.linalg as la\n",
    "import matplotlib.pyplot as plt\n",
    "import matplotlib as mpl\n",
    "\n",
    "import scipy.stats as scs\n",
    "import statsmodels.api as sm\n",
    "from scipy.optimize import minimize, NonlinearConstraint\n",
    "from statsmodels.distributions.empirical_distribution import ECDF\n",
    "\n",
    "import multiprocessing as mp\n",
    "from tqdm import tqdm\n",
    "from time import time\n",
    "\n",
    "from IPython.core.interactiveshell import InteractiveShell\n",
    "\n",
    "# InteractiveShell.ast_node_interactivity = \"all\"\n",
    "# %matplotlib notebook\n",
    "%matplotlib inline\n",
    "mpl.rc('text', usetex=True)\n",
    "mpl.rc('font', size=14)"
   ]
  },
  {
   "cell_type": "markdown",
   "metadata": {},
   "source": [
    "# Задание 7"
   ]
  },
  {
   "cell_type": "markdown",
   "metadata": {},
   "source": [
    "## 7.1"
   ]
  },
  {
   "cell_type": "code",
   "execution_count": 96,
   "metadata": {},
   "outputs": [],
   "source": [
    "def f(x):\n",
    "    if abs(x[0]) < np.finfo(x[0]).eps or abs(x[1]) < np.finfo(x[1]).eps:\n",
    "        return 0\n",
    "    return x[0]**3 * np.sin(1 / x[0]) + 10 * x[0] * x[1]**4 * np.cos(1 / x[1])"
   ]
  },
  {
   "cell_type": "code",
   "execution_count": 122,
   "metadata": {},
   "outputs": [
    {
     "name": "stderr",
     "output_type": "stream",
     "text": [
      "100%|██████████| 100000/100000 [00:04<00:00, 22108.80it/s]"
     ]
    },
    {
     "name": "stdout",
     "output_type": "stream",
     "text": [
      "f_min = -1.28506745476355\n",
      "(x1_min, x2_min) = (-0.3727682725469592, 0.927894112624122)\n"
     ]
    },
    {
     "name": "stderr",
     "output_type": "stream",
     "text": [
      "\n"
     ]
    }
   ],
   "source": [
    "N_REP = 10**5\n",
    "\n",
    "y_min = np.inf\n",
    "x_min = np.array([np.nan, np.nan])\n",
    "for i in tqdm(range(N_REP)):\n",
    "    r = np.sqrt(rnd.rand())\n",
    "    phi = 2 * np.pi * rnd.rand()\n",
    "    x = np.array([r * np.cos(phi), r * np.sin(phi)])\n",
    "    y = f(x)\n",
    "    if y < y_min:\n",
    "        y_min = y\n",
    "        x_min = x\n",
    "\n",
    "print('f_min = {}'.format(y_min))\n",
    "print('(x1_min, x2_min) = ({}, {})'.format(x_min[0], x_min[1]))"
   ]
  },
  {
   "cell_type": "markdown",
   "metadata": {},
   "source": [
    "## 2.2"
   ]
  },
  {
   "cell_type": "code",
   "execution_count": 42,
   "metadata": {},
   "outputs": [],
   "source": [
    "def ros_func(x):\n",
    "    return (x[0] - 1)**2 + 100 * (x[1] - x[0]**2)**2"
   ]
  },
  {
   "cell_type": "code",
   "execution_count": 70,
   "metadata": {},
   "outputs": [],
   "source": [
    "def sa_optim(func, x0, sigma=1, k=0.99, t0=1, t_min=1e-5, verbose_every=100):\n",
    "    x = x0\n",
    "    y = func(x0)\n",
    "    temp = t0\n",
    "    it = 0\n",
    "    steps = 0\n",
    "    \n",
    "    while temp > t_min:\n",
    "        x_new = x + sigma * rnd.randn(*x.shape)\n",
    "        y_new = func(x_new)\n",
    "        prob = min(1, np.exp((y - y_new) / temp))\n",
    "        if rnd.rand() <= prob:\n",
    "            x = x_new\n",
    "            y = y_new\n",
    "            steps += 1\n",
    "        temp *= k\n",
    "        it += 1\n",
    "        if it % verbose_every == 0:\n",
    "            print('\\rt: {}'.format(temp), end='')\n",
    "    print('\\niterations: {}\\t steps: {}'.format(it, steps))\n",
    "    return {'x_min': x, 'f_min': y}"
   ]
  },
  {
   "cell_type": "code",
   "execution_count": 72,
   "metadata": {},
   "outputs": [
    {
     "name": "stdout",
     "output_type": "stream",
     "text": [
      "t: 1.010090852990375e-077\n",
      "iterations: 16111\t steps: 1508\n",
      "[0.99927707 0.99841208] 2.5557696440928405e-06\n",
      "CPU times: user 639 ms, sys: 95 ms, total: 734 ms\n",
      "Wall time: 636 ms\n"
     ]
    }
   ],
   "source": [
    "%%time\n",
    "\n",
    "opt_res = sa_optim(ros_func,\n",
    "    np.array([0, 0]),\n",
    "    sigma = 0.05,\n",
    "    k = 0.999,\n",
    "    t0 = 1,\n",
    "    t_min = 1e-7,\n",
    "    verbose_every=100\n",
    ")\n",
    "print(opt_res['x_min'], opt_res['f_min'])"
   ]
  },
  {
   "cell_type": "markdown",
   "metadata": {},
   "source": [
    "## 7.3"
   ]
  },
  {
   "cell_type": "code",
   "execution_count": 99,
   "metadata": {},
   "outputs": [],
   "source": [
    "def grad_f(x):   \n",
    "    g1 = 3 * x[0]**2 * np.sin(1 / x[0]) - x[0] * np.cos(1 / x[0]) + 10 * x[1]**4 * np.cos(1 / x[1])\n",
    "    g2 = 40 * x[0] * x[1]**3 * np.cos(1 / x[1]) + 10 * x[0] * x[1]**2 * np.sin(1 / x[1])\n",
    "    \n",
    "    return np.array([g1, g2])"
   ]
  },
  {
   "cell_type": "code",
   "execution_count": 87,
   "metadata": {},
   "outputs": [],
   "source": [
    "def grad_ros(x):\n",
    "    g1 = 2 * (x[0] - 1) - 400 * x[0] * (x[1] - x[0]**2)\n",
    "    g2 = 200 * (x[1] - x[0]**2)\n",
    "    \n",
    "    return np.array([g1, g2])"
   ]
  },
  {
   "cell_type": "code",
   "execution_count": 88,
   "metadata": {},
   "outputs": [
    {
     "data": {
      "text/plain": [
       "      fun: 7.717288356613562e-13\n",
       " hess_inv: array([[0.49480256, 0.98953879],\n",
       "       [0.98953879, 1.98387918]])\n",
       "      jac: array([ 3.92841201e-06, -2.83120873e-06])\n",
       "  message: 'Optimization terminated successfully.'\n",
       "     nfev: 24\n",
       "      nit: 19\n",
       "     njev: 24\n",
       "   status: 0\n",
       "  success: True\n",
       "        x: array([0.99999913, 0.99999825])"
      ]
     },
     "execution_count": 88,
     "metadata": {},
     "output_type": "execute_result"
    }
   ],
   "source": [
    "minimize(ros_func, np.array([0, 0]), jac=grad_ros)"
   ]
  },
  {
   "cell_type": "code",
   "execution_count": 121,
   "metadata": {},
   "outputs": [
    {
     "data": {
      "text/plain": [
       "     fun: -1.6060013046111983\n",
       "     jac: array([5.5302794 , 8.72028325])\n",
       " message: 'Iteration limit exceeded'\n",
       "    nfev: 1093\n",
       "     nit: 101\n",
       "    njev: 101\n",
       "  status: 9\n",
       " success: False\n",
       "       x: array([-0.28067219, -1.00938724])"
      ]
     },
     "execution_count": 121,
     "metadata": {},
     "output_type": "execute_result"
    }
   ],
   "source": [
    "constr = NonlinearConstraint(fun=lambda x: (x**2).sum(),\n",
    "                             lb = -np.inf,\n",
    "                             ub = 1,\n",
    "                             jac=lambda x: 2 * x.sum())\n",
    "minimize(f, np.array([-0.36, -0.93]), jac=grad_f, constraints=constr)"
   ]
  },
  {
   "cell_type": "markdown",
   "metadata": {},
   "source": [
    "# Задание 8"
   ]
  },
  {
   "cell_type": "code",
   "execution_count": null,
   "metadata": {},
   "outputs": [],
   "source": []
  }
 ],
 "metadata": {
  "kernelspec": {
   "display_name": "Python 3",
   "language": "python",
   "name": "python3"
  },
  "language_info": {
   "codemirror_mode": {
    "name": "ipython",
    "version": 3
   },
   "file_extension": ".py",
   "mimetype": "text/x-python",
   "name": "python",
   "nbconvert_exporter": "python",
   "pygments_lexer": "ipython3",
   "version": "3.7.6"
  }
 },
 "nbformat": 4,
 "nbformat_minor": 4
}
