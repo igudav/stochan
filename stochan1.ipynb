{
 "cells": [
  {
   "cell_type": "markdown",
   "metadata": {},
   "source": [
    "Задание: https://paper.dropbox.com/doc/vQ0SBXmxWRUTX7E3p1spp"
   ]
  },
  {
   "cell_type": "code",
   "execution_count": 25,
   "metadata": {},
   "outputs": [],
   "source": [
    "import numpy as np\n",
    "import numpy.random as rnd\n",
    "import numpy.linalg as la\n",
    "import matplotlib.pyplot as plt\n",
    "import matplotlib as mpl\n",
    "\n",
    "import scipy.stats as scs\n",
    "import statsmodels.api as sm\n",
    "from statsmodels.distributions.empirical_distribution import ECDF\n",
    "\n",
    "import multiprocessing as mp\n",
    "from tqdm import tqdm\n",
    "from time import time\n",
    "\n",
    "from IPython.core.interactiveshell import InteractiveShell\n",
    "\n",
    "# InteractiveShell.ast_node_interactivity = \"all\"\n",
    "# %matplotlib notebook\n",
    "%matplotlib inline\n",
    "mpl.rc('text', usetex=True)\n",
    "mpl.rc('font', size=14)"
   ]
  },
  {
   "cell_type": "markdown",
   "metadata": {},
   "source": [
    "# Задание 1"
   ]
  },
  {
   "cell_type": "markdown",
   "metadata": {},
   "source": [
    "## 1.1"
   ]
  },
  {
   "cell_type": "code",
   "execution_count": 2,
   "metadata": {},
   "outputs": [],
   "source": [
    "def gen_bernully(p, *shape):\n",
    "    res = rnd.rand(*shape)\n",
    "    return (res <= p).astype(np.int64)"
   ]
  },
  {
   "cell_type": "code",
   "execution_count": 3,
   "metadata": {},
   "outputs": [],
   "source": [
    "def gen_binomial(n, p, *shape):\n",
    "    r = gen_bernully(p, *shape, n)\n",
    "    return r.sum(axis=-1)"
   ]
  },
  {
   "cell_type": "markdown",
   "metadata": {},
   "source": [
    "## 1.2"
   ]
  },
  {
   "cell_type": "markdown",
   "metadata": {},
   "source": [
    "Чтобы не проводить испытания непонятно сколько времени, будем обращать функцию распределения экспоненциального распределения"
   ]
  },
  {
   "cell_type": "markdown",
   "metadata": {},
   "source": [
    "Считаем, что геометрическое распределение — число неудач до 1-го успеха.\n",
    "То есть $\\mathbb{P}(\\eta = n) = q^np$. Теперь пусть\n",
    "$\\xi \\sim exp(\\lambda) \\Rightarrow \\mathbb{P}(n <= \\xi < n+1) = e^{-\\lambda n}(1 - e^{-\\lambda})$.\n",
    "Тогда $\\lambda = - \\ln (1-p)$.\n",
    "Пусть $F \\sim U[0, 1]$, Тогда $\\xi = -\\frac{1}{\\lambda} \\ln (1 - F) \\sim exp(\\lambda)$.\n",
    "И отсюда $\\eta = \\left\\lfloor \\frac{\\ln (1 - F)}{\\ln (1 - p)} \\right\\rfloor \\sim geom(p)$."
   ]
  },
  {
   "cell_type": "code",
   "execution_count": 4,
   "metadata": {},
   "outputs": [],
   "source": [
    "def gen_geom(p, *shape):\n",
    "    r = rnd.rand(*shape)\n",
    "    \n",
    "    return np.floor(np.log(1 - r) / np.log(1 - p)).astype(np.int64) "
   ]
  },
  {
   "cell_type": "code",
   "execution_count": 5,
   "metadata": {},
   "outputs": [],
   "source": [
    "N = int(1e6)\n",
    "THR = 5\n",
    "PROB = .3\n",
    "arr = gen_geom(PROB, N)\n",
    "\n",
    "emp_all = ECDF(arr)\n",
    "emp_cond = ECDF(arr[arr >= THR] - THR)"
   ]
  },
  {
   "cell_type": "code",
   "execution_count": 9,
   "metadata": {},
   "outputs": [
    {
     "data": {
      "text/plain": [
       "<matplotlib.legend.Legend at 0x7f6c7cafd210>"
      ]
     },
     "execution_count": 9,
     "metadata": {},
     "output_type": "execute_result"
    },
    {
     "data": {
      "image/png": "[encoded data removed]",
      "text/plain": [
       "<Figure size 432x288 with 1 Axes>"
      ]
     },
     "metadata": {
      "needs_background": "light"
     },
     "output_type": "display_data"
    }
   ],
   "source": [
    "fig, ax = plt.subplots()\n",
    "x = np.linspace(0, 10, 100)\n",
    "ax.plot(x, emp_all(x), label='whole sample')\n",
    "ax.plot(x, emp_cond(x), '--', label='conditional')\n",
    "ax.set_xlabel('$x$')\n",
    "ax.set_ylabel(r'$P(\\eta < x)$')\n",
    "ax.grid('on')\n",
    "ax.legend()"
   ]
  },
  {
   "cell_type": "code",
   "execution_count": 10,
   "metadata": {},
   "outputs": [],
   "source": [
    "fig.dpi = 300\n",
    "fig.savefig(\"report/figures/01_mem.png\", bbox_inches='tight')"
   ]
  },
  {
   "cell_type": "markdown",
   "metadata": {},
   "source": [
    "## 1.3"
   ]
  },
  {
   "cell_type": "markdown",
   "metadata": {},
   "source": [
    "$\\mathbb{E}[\\xi] = 0,\\ \\mathrm{var}[\\xi] = 1 \\Rightarrow \\mathbb{E}[S_i] = 0,\\ \\mathrm{var}[S_i] = n$.\n",
    "Тогда из ЦПТ $Y_i = S_i \\big/\\!\\sqrt n \\rightarrow \\mathscr{N}(0, 1)$ по распределению. "
   ]
  },
  {
   "cell_type": "code",
   "execution_count": 11,
   "metadata": {},
   "outputs": [],
   "source": [
    "N = 10**6\n",
    "n = np.arange(1, N + 1)\n",
    "r = 2 * gen_bernully(0.5, N) - 1\n",
    "S = np.cumsum(r)\n",
    "Y = S / np.sqrt(n)"
   ]
  },
  {
   "cell_type": "code",
   "execution_count": 18,
   "metadata": {},
   "outputs": [
    {
     "data": {
      "image/png": "[encoded data removed]",
      "text/plain": [
       "<Figure size 432x288 with 1 Axes>"
      ]
     },
     "metadata": {
      "needs_background": "light"
     },
     "output_type": "display_data"
    }
   ],
   "source": [
    "fig, ax = plt.subplots()\n",
    "ax.plot(n, Y)\n",
    "ax.set_xlabel(r'$n$')\n",
    "ax.set_ylabel(r'$Y(i)$')\n",
    "ax.grid('on')"
   ]
  },
  {
   "cell_type": "code",
   "execution_count": 19,
   "metadata": {},
   "outputs": [],
   "source": [
    "fig.dpi = 300\n",
    "fig.savefig(\"report/figures/01_coin.png\", bbox_inches='tight')"
   ]
  },
  {
   "cell_type": "markdown",
   "metadata": {},
   "source": [
    "# Задание 2"
   ]
  },
  {
   "cell_type": "markdown",
   "metadata": {},
   "source": [
    "## 2.1"
   ]
  },
  {
   "cell_type": "code",
   "execution_count": 20,
   "metadata": {},
   "outputs": [],
   "source": [
    "def gen_cantor(eps, gen_cdf, *shape):\n",
    "    n_digits = np.ceil(-np.log(eps) / np.log(3)).astype(np.int64)\n",
    "    bern = gen_bernully(0.5, *shape, n_digits)\n",
    "    r = 2.0 * bern\n",
    "    exp = lambda b: np.logspace(-1, -n_digits, n_digits, base=b)\n",
    "    if gen_cdf:\n",
    "        return r @ exp(3), bern @ exp(2)\n",
    "    return r @ exp(3)"
   ]
  },
  {
   "cell_type": "code",
   "execution_count": 21,
   "metadata": {},
   "outputs": [],
   "source": [
    "class CantorCDF:\n",
    "    \n",
    "    def __init__(self, eps=1e-10):\n",
    "        self.n_digits = np.ceil(-np.log(eps) / np.log(3)).astype(np.int64)\n",
    "        \n",
    "    def __call__(self, x):\n",
    "        shape = x.shape\n",
    "        x = x.flatten()\n",
    "        y = np.zeros_like(x)\n",
    "        y[x >= 1] = 1\n",
    "        idx = (x > 0) & (x < 1)\n",
    "        x = x[idx]\n",
    "        for i, el in enumerate(x):\n",
    "            res = 0\n",
    "            for j in range(1, self.n_digits + 1):\n",
    "                k = np.floor(el * 3).astype(np.int64)\n",
    "                if k > 0:\n",
    "                    res += 2**-j\n",
    "                el = (el - k / 3) * 3\n",
    "                if k == 1:\n",
    "                    break\n",
    "            x[i] = res\n",
    "        y[idx] = x\n",
    "        return y.reshape(shape)"
   ]
  },
  {
   "cell_type": "code",
   "execution_count": 26,
   "metadata": {},
   "outputs": [
    {
     "data": {
      "image/png": "[encoded data removed]",
      "text/plain": [
       "<Figure size 432x288 with 1 Axes>"
      ]
     },
     "metadata": {
      "needs_background": "light"
     },
     "output_type": "display_data"
    }
   ],
   "source": [
    "N = 1000\n",
    "n = np.linspace(0, 1, 1000)\n",
    "cdf = CantorCDF()(n)\n",
    "\n",
    "fig, ax = plt.subplots()\n",
    "\n",
    "ax.plot(n, cdf)\n",
    "ax.set_xlabel(r'$n$')\n",
    "ax.set_ylabel(r'$F(x)$')\n",
    "ax.grid('on')"
   ]
  },
  {
   "cell_type": "code",
   "execution_count": 27,
   "metadata": {},
   "outputs": [],
   "source": [
    "fig.dpi = 300\n",
    "fig.savefig(\"report/figures/02_cdf.png\", bbox_inches='tight')"
   ]
  },
  {
   "cell_type": "code",
   "execution_count": 15,
   "metadata": {},
   "outputs": [],
   "source": [
    "def my_kolm_test(rvs, cdf):\n",
    "    idx = np.argsort(rvs)\n",
    "    rvs = np.array([row[idx[i]] for i, row in enumerate(rvs)])\n",
    "    ecdf_plus = np.arange(1, rvs.shape[-1] + 1) / rvs.shape[-1]\n",
    "    ecdf_minus = np.arange(0, rvs.shape[-1]) / rvs.shape[-1]\n",
    "    if callable(cdf):\n",
    "        cdf = cdf(rvs)\n",
    "    else:\n",
    "        cdf = np.array([row[idx[i]] for i, row in enumerate(cdf)])\n",
    "    d_stat_plus = np.max(ecdf_plus - cdf, axis=-1)\n",
    "    d_stat_minus = np.max(cdf - ecdf_minus, axis=-1)\n",
    "    d_stat = np.maximum(d_stat_plus, d_stat_minus)\n",
    "    p = 1 - scs.kstwobign.cdf(d_stat * np.sqrt(rvs.shape[-1]))\n",
    "    return p"
   ]
  },
  {
   "cell_type": "code",
   "execution_count": 16,
   "metadata": {},
   "outputs": [
    {
     "data": {
      "text/plain": [
       "(1000, 1000)"
      ]
     },
     "execution_count": 16,
     "metadata": {},
     "output_type": "execute_result"
    }
   ],
   "source": [
    "N = 1000\n",
    "N_SAMPLES = 1000\n",
    "EPS = 1e-10\n",
    "\n",
    "rvs, cdf = gen_cantor(EPS, True, N_SAMPLES, N)\n",
    "rvs.shape"
   ]
  },
  {
   "cell_type": "code",
   "execution_count": 17,
   "metadata": {},
   "outputs": [
    {
     "name": "stdout",
     "output_type": "stream",
     "text": [
      "Частота отклонения гипотизы: 5.2%\n"
     ]
    }
   ],
   "source": [
    "alpha = 0.05\n",
    "p = my_kolm_test(rvs, cdf)\n",
    "print('Частота отклонения гипотизы: {}%'.format((p < alpha).sum() / N_SAMPLES * 100))"
   ]
  },
  {
   "cell_type": "markdown",
   "metadata": {},
   "source": [
    "## 2.2"
   ]
  },
  {
   "cell_type": "code",
   "execution_count": 18,
   "metadata": {},
   "outputs": [],
   "source": [
    "def my_smir_test(rvs1, rvs2):\n",
    "    rvs1 = np.sort(rvs1)\n",
    "    rvs2 = np.sort(rvs2)\n",
    "    all_data = np.concatenate((rvs1, rvs2))\n",
    "    cdf1 = np.searchsorted(rvs1, all_data, side='right') / rvs1.size\n",
    "    cdf2 = np.searchsorted(rvs2, all_data, side='right') / rvs2.size\n",
    "\n",
    "    d_stat_plus = np.max(cdf1 - cdf2)\n",
    "    d_stat_minus = np.clip(-np.min(cdf1 - cdf2), 0, 1)\n",
    "    d_stat = np.max([d_stat_plus, d_stat_minus])\n",
    "    p = 1 - scs.kstwobign.cdf(d_stat * np.sqrt(rvs1.size * rvs2.size / (rvs1.size + rvs2.size)))\n",
    "    return p"
   ]
  },
  {
   "cell_type": "markdown",
   "metadata": {},
   "source": [
    "### Симметрия\n"
   ]
  },
  {
   "cell_type": "code",
   "execution_count": 19,
   "metadata": {},
   "outputs": [
    {
     "name": "stderr",
     "output_type": "stream",
     "text": [
      "100%|██████████| 100/100 [00:01<00:00, 72.04it/s]"
     ]
    },
    {
     "name": "stdout",
     "output_type": "stream",
     "text": [
      "Частота отклонения гипотизы: 10.0%\n"
     ]
    },
    {
     "name": "stderr",
     "output_type": "stream",
     "text": [
      "\n"
     ]
    }
   ],
   "source": [
    "N = 10000\n",
    "N_SAMPLES = 100\n",
    "EPS = 1e-10\n",
    "ALPHA = 0.05\n",
    "\n",
    "n_reject = 0\n",
    "for i in tqdm(np.arange(N_SAMPLES)):\n",
    "    rvs = gen_cantor(EPS, False, N)\n",
    "    p = my_smir_test(rvs, 1 - rvs)\n",
    "    if p < ALPHA:\n",
    "        n_reject += 1\n",
    "print('Частота отклонения гипотизы: {}%'.format(n_reject / N_SAMPLES * 100))"
   ]
  },
  {
   "cell_type": "markdown",
   "metadata": {},
   "source": [
    "### Самоподобие"
   ]
  },
  {
   "cell_type": "code",
   "execution_count": 20,
   "metadata": {},
   "outputs": [
    {
     "name": "stderr",
     "output_type": "stream",
     "text": [
      "100%|██████████| 100/100 [00:01<00:00, 83.43it/s]"
     ]
    },
    {
     "name": "stdout",
     "output_type": "stream",
     "text": [
      "Частота отклонения гипотизы: 3.0%\n"
     ]
    },
    {
     "name": "stderr",
     "output_type": "stream",
     "text": [
      "\n"
     ]
    }
   ],
   "source": [
    "N = 10000\n",
    "N_SAMPLES = 100\n",
    "EPS = 1e-10\n",
    "ALPHA = 0.05\n",
    "\n",
    "n_reject = 0\n",
    "for i in tqdm(np.arange(N_SAMPLES)):\n",
    "    rvs = gen_cantor(EPS, False, N)\n",
    "    p = my_smir_test(rvs[rvs < 1.0/3.0], rvs / 3.0)\n",
    "    if p < ALPHA:\n",
    "        n_reject += 1\n",
    "print('Частота отклонения гипотизы: {}%'.format(n_reject / N_SAMPLES * 100))"
   ]
  },
  {
   "cell_type": "markdown",
   "metadata": {},
   "source": [
    "## 2.3"
   ]
  },
  {
   "cell_type": "code",
   "execution_count": 28,
   "metadata": {},
   "outputs": [
    {
     "data": {
      "image/png": "[encoded data removed]",
      "text/plain": [
       "<Figure size 921.6x345.6 with 2 Axes>"
      ]
     },
     "metadata": {
      "needs_background": "light"
     },
     "output_type": "display_data"
    }
   ],
   "source": [
    "N = 10000\n",
    "EPS = 1e-10\n",
    "m = 0.5\n",
    "v = 0.125\n",
    "\n",
    "rvs = gen_cantor(EPS, False, N)\n",
    "mean = np.cumsum(rvs) / np.arange(1, N + 1)\n",
    "var = np.cumsum(rvs ** 2)[1:] / np.arange(1, N) - mean[1:]**2\n",
    "n = np.arange(2, N + 1)\n",
    "\n",
    "fig, (ax1, ax2) = plt.subplots(1, 2, figsize=(12.8, 4.8))\n",
    "\n",
    "ax1.plot(n, mean[1:], label='sample mean')\n",
    "ax1.plot([2, N], [m, m], label='true mean')\n",
    "ax1.set_title('Mean convergence')\n",
    "ax1.set_xlabel('observations')\n",
    "ax1.set_xscale('log')\n",
    "ax1.set_ylabel('mean')\n",
    "ax1.grid('on')\n",
    "ax1.legend()\n",
    "\n",
    "ax2.plot(n, var, label='sample variance')\n",
    "ax2.plot([2, N], [v, v], label='true variance')\n",
    "ax2.set_title('Variance convergence')\n",
    "ax2.set_xlabel('observations')\n",
    "ax2.set_ylabel('variance')\n",
    "ax2.set_xscale('log')\n",
    "ax2.grid('on')\n",
    "ax2.legend()\n",
    "\n",
    "fig.tight_layout()"
   ]
  },
  {
   "cell_type": "code",
   "execution_count": 29,
   "metadata": {},
   "outputs": [],
   "source": [
    "fig.dpi = 300\n",
    "fig.savefig(\"report/figures/02_conv.png\", bbox_inches='tight')"
   ]
  },
  {
   "cell_type": "markdown",
   "metadata": {},
   "source": [
    "# Задание 3"
   ]
  },
  {
   "cell_type": "markdown",
   "metadata": {},
   "source": [
    "## 3.1"
   ]
  },
  {
   "cell_type": "code",
   "execution_count": 30,
   "metadata": {},
   "outputs": [],
   "source": [
    "def gen_exp(lam, *shape):\n",
    "    rvs = rnd.rand(*shape)\n",
    "    if isinstance(lam, float) or isinstance(lam, int):\n",
    "        return -np.log(1 - rvs) / lam\n",
    "    else:\n",
    "        return -np.log(1 - rvs) / lam.reshape(-1, 1)"
   ]
  },
  {
   "cell_type": "code",
   "execution_count": 31,
   "metadata": {},
   "outputs": [],
   "source": [
    "N = int(1e6)\n",
    "THR = 5\n",
    "LAM = 1\n",
    "arr = gen_exp(LAM, N)\n",
    "\n",
    "emp_all = ECDF(arr)\n",
    "emp_cond = ECDF(arr[arr >= THR] - THR)"
   ]
  },
  {
   "cell_type": "code",
   "execution_count": 32,
   "metadata": {},
   "outputs": [
    {
     "data": {
      "text/plain": [
       "<matplotlib.legend.Legend at 0x7f6c7c350450>"
      ]
     },
     "execution_count": 32,
     "metadata": {},
     "output_type": "execute_result"
    },
    {
     "data": {
      "image/png": "[encoded data removed]",
      "text/plain": [
       "<Figure size 432x288 with 1 Axes>"
      ]
     },
     "metadata": {
      "needs_background": "light"
     },
     "output_type": "display_data"
    }
   ],
   "source": [
    "fig, ax = plt.subplots()\n",
    "x = np.linspace(0, 10, 100)\n",
    "ax.plot(x, emp_all(x), label='whole sample')\n",
    "ax.plot(x, emp_cond(x), '--', label='conditional')\n",
    "ax.set_xlabel('$x$')\n",
    "ax.set_ylabel(r'$P(\\eta < x)$')\n",
    "ax.grid('on')\n",
    "ax.legend()"
   ]
  },
  {
   "cell_type": "code",
   "execution_count": 33,
   "metadata": {},
   "outputs": [],
   "source": [
    "fig.dpi = 300\n",
    "fig.savefig(\"report/figures/03_mem.png\", bbox_inches='tight')"
   ]
  },
  {
   "cell_type": "code",
   "execution_count": 34,
   "metadata": {
    "scrolled": true
   },
   "outputs": [
    {
     "data": {
      "text/plain": [
       "<matplotlib.legend.Legend at 0x7f6c7bb19610>"
      ]
     },
     "execution_count": 34,
     "metadata": {},
     "output_type": "execute_result"
    },
    {
     "data": {
      "image/png": "[encoded data removed]",
      "text/plain": [
       "<Figure size 432x288 with 1 Axes>"
      ]
     },
     "metadata": {
      "needs_background": "light"
     },
     "output_type": "display_data"
    }
   ],
   "source": [
    "N_SAMPLES = 1000\n",
    "N_LAM = 100\n",
    "\n",
    "lam = rnd.rand(N_LAM) / 10\n",
    "rvs = gen_exp(lam, N_LAM, N)\n",
    "rvs = np.min(rvs, axis=0)\n",
    "\n",
    "lam_min = lam.sum()\n",
    "\n",
    "ecdf = ECDF(rvs)\n",
    "cdf = lambda x: scs.distributions.expon.cdf(x, scale=1/lam_min)\n",
    "\n",
    "fig, ax = plt.subplots()\n",
    "x = np.linspace(0, 1, 100)\n",
    "ax.plot(x, cdf(x), label='cdf')\n",
    "ax.plot(x, ecdf(x), '--', label='ecdf')\n",
    "ax.set_xlabel('$x$')\n",
    "ax.set_ylabel(r'$P(\\xi < x)$')\n",
    "ax.grid('on')\n",
    "ax.legend()"
   ]
  },
  {
   "cell_type": "code",
   "execution_count": 35,
   "metadata": {},
   "outputs": [],
   "source": [
    "fig.dpi = 300\n",
    "fig.savefig(\"report/figures/03_cdfmin.png\", bbox_inches='tight')"
   ]
  },
  {
   "cell_type": "markdown",
   "metadata": {},
   "source": [
    "## 3.2"
   ]
  },
  {
   "cell_type": "markdown",
   "metadata": {},
   "source": [
    "Через пуассоновский процесс"
   ]
  },
  {
   "cell_type": "code",
   "execution_count": 27,
   "metadata": {},
   "outputs": [],
   "source": [
    "def gen_pois_exp_single(lam):\n",
    "    s = 0\n",
    "    rv = -1\n",
    "    while s < 1:\n",
    "        s += gen_exp(lam)\n",
    "        rv += 1\n",
    "    return rv\n",
    "\n",
    "def gen_pois_exp(lam, *shape):\n",
    "    n = np.prod(shape)\n",
    "    rvs = np.zeros(n)\n",
    "    for i in range(n):\n",
    "        rvs[i] = gen_pois_exp_single(lam)\n",
    "    return rvs.reshape(shape)"
   ]
  },
  {
   "cell_type": "markdown",
   "metadata": {},
   "source": [
    "## 3.3"
   ]
  },
  {
   "cell_type": "code",
   "execution_count": 28,
   "metadata": {},
   "outputs": [],
   "source": [
    "def gen_pois_bin(lam, n, *shape):\n",
    "    return gen_binomial(n, lam / n, *shape)"
   ]
  },
  {
   "cell_type": "code",
   "execution_count": 29,
   "metadata": {},
   "outputs": [],
   "source": [
    "def pois_prob(lam, n):\n",
    "    return np.exp(-lam) * lam**n / np.math.factorial(n)"
   ]
  },
  {
   "cell_type": "code",
   "execution_count": 30,
   "metadata": {},
   "outputs": [
    {
     "name": "stderr",
     "output_type": "stream",
     "text": [
      "100%|██████████| 100/100 [00:16<00:00,  5.63it/s]"
     ]
    },
    {
     "name": "stdout",
     "output_type": "stream",
     "text": [
      "Частота отклонения гипотизы: 3.0%\n"
     ]
    },
    {
     "name": "stderr",
     "output_type": "stream",
     "text": [
      "\n"
     ]
    }
   ],
   "source": [
    "LAM = 3\n",
    "N_APPROX = 10000\n",
    "N = 1000\n",
    "N_SAMPLES = 100\n",
    "N_BINS = 5\n",
    "ALPHA = 0.05\n",
    "\n",
    "n_reject = 0\n",
    "probs = np.array([pois_prob(LAM, i) for i in range(1, N_BINS)])\n",
    "probs[0] += pois_prob(LAM, 0)\n",
    "probs = np.append(probs, 1 - probs.sum())\n",
    "\n",
    "for i in tqdm(range(N_SAMPLES)):\n",
    "    rvs = gen_pois_bin(LAM, N_APPROX, N)\n",
    "    bins = np.zeros(N_BINS)\n",
    "    for j in range(N_BINS + 1):\n",
    "        if j == 0:\n",
    "            bins[j] += (rvs == j).sum()\n",
    "        elif j < N_BINS:\n",
    "            bins[j - 1] += (rvs == j).sum()\n",
    "        else:\n",
    "            bins[j - 1] += (rvs >= j).sum()\n",
    "    \n",
    "    stat = ((bins - N * probs)**2 / (N * probs)).sum()\n",
    "    if scs.distributions.chi2.cdf(stat, df=N_BINS-1) < ALPHA:\n",
    "        n_reject += 1\n",
    "\n",
    "print('Частота отклонения гипотизы: {}%'.format(n_reject / N_SAMPLES * 100))"
   ]
  },
  {
   "cell_type": "markdown",
   "metadata": {},
   "source": [
    "## 3.4"
   ]
  },
  {
   "cell_type": "code",
   "execution_count": 50,
   "metadata": {},
   "outputs": [],
   "source": [
    "def gen_norm_polar(*shape):\n",
    "    r = np.sqrt(gen_exp(0.5, *shape))\n",
    "    phi = 2 * np.pi * rnd.rand(*shape)\n",
    "    return r * np.cos(phi)"
   ]
  },
  {
   "cell_type": "code",
   "execution_count": 32,
   "metadata": {},
   "outputs": [],
   "source": [
    "def my_t_test(rvs, mean):\n",
    "    s = np.sqrt(rvs.var(axis=-1, ddof=1))\n",
    "    tstats = np.sqrt(rvs.shape[-1]) * (rvs.mean(axis=-1) - mean) / s\n",
    "    return scs.distributions.t.sf(np.abs(tstats), df=rvs.shape[-1]-1) * 2"
   ]
  },
  {
   "cell_type": "code",
   "execution_count": 33,
   "metadata": {},
   "outputs": [
    {
     "name": "stdout",
     "output_type": "stream",
     "text": [
      "Частота отклонения гипотизы: 3.0%\n"
     ]
    }
   ],
   "source": [
    "N = 1000\n",
    "N_SAMPLES = 100\n",
    "ALPHA = 0.05\n",
    "\n",
    "rvs = gen_norm_polar(N_SAMPLES, N)\n",
    "p = my_t_test(rvs, 0)\n",
    "n_reject = (p < ALPHA).sum()\n",
    "\n",
    "print('Частота отклонения гипотизы: {}%'.format(n_reject / N_SAMPLES * 100))"
   ]
  },
  {
   "cell_type": "code",
   "execution_count": 34,
   "metadata": {},
   "outputs": [],
   "source": [
    "def my_f_test(rvs1, rvs2):\n",
    "    s1 = rvs1.var(ddof=1)\n",
    "    s2 = rvs2.var(ddof=1)\n",
    "    n1 = rvs1.size\n",
    "    n2 = rvs2.size\n",
    "    \n",
    "    if s1 < s2:\n",
    "        s1, s2 = s2, s1\n",
    "        n1, n2 = n2, n1\n",
    "    \n",
    "    stat = s1 / s2\n",
    "    p = scs.distributions.f.sf(stat, n1 - 1, n2 - 1) * 2\n",
    "    return p"
   ]
  },
  {
   "cell_type": "code",
   "execution_count": 35,
   "metadata": {},
   "outputs": [
    {
     "name": "stderr",
     "output_type": "stream",
     "text": [
      "100%|██████████| 100/100 [00:00<00:00, 1658.46it/s]"
     ]
    },
    {
     "name": "stdout",
     "output_type": "stream",
     "text": [
      "Частота отклонения гипотизы: 6.0%\n"
     ]
    },
    {
     "name": "stderr",
     "output_type": "stream",
     "text": [
      "\n"
     ]
    }
   ],
   "source": [
    "N = 1000\n",
    "N_SAMPLES = 100\n",
    "ALPHA = 0.05\n",
    "\n",
    "n_reject = 0\n",
    "for i in tqdm(np.arange(N_SAMPLES)):\n",
    "    rvs1 = gen_norm_polar(N)\n",
    "    rvs2 = rnd.randn(N)\n",
    "    p = my_f_test(rvs1, rvs2)\n",
    "    if p < ALPHA:\n",
    "        n_reject += 1\n",
    "print('Частота отклонения гипотизы: {}%'.format(n_reject / N_SAMPLES * 100))"
   ]
  },
  {
   "cell_type": "markdown",
   "metadata": {},
   "source": [
    "# Задание 4"
   ]
  },
  {
   "cell_type": "markdown",
   "metadata": {},
   "source": [
    "## 4.1"
   ]
  },
  {
   "cell_type": "code",
   "execution_count": 38,
   "metadata": {},
   "outputs": [],
   "source": [
    "def gen_cauchy(*shape):\n",
    "    return np.tan(np.pi * (rnd.rand(*shape) - 0.5))"
   ]
  },
  {
   "cell_type": "markdown",
   "metadata": {},
   "source": [
    "## 4.2"
   ]
  },
  {
   "cell_type": "code",
   "execution_count": 39,
   "metadata": {},
   "outputs": [],
   "source": [
    "def gen_neumann(generator, pdf_proposal, pdf_target, k, size):\n",
    "\n",
    "    rvs = np.empty(0)\n",
    "    acception_rate = 1\n",
    "    \n",
    "    while rvs.size < size:\n",
    "        cur_sz = int((size - rvs.size) / acception_rate)\n",
    "        s = generator(cur_sz)\n",
    "        ratio = pdf_target(s) / (k * pdf_proposal(s))\n",
    "        s = s[rnd.rand(cur_sz) < ratio]\n",
    "        acception_rate = max(s.size / cur_sz, 0.5)\n",
    "        rvs = np.concatenate((rvs, s))\n",
    "    \n",
    "    return rvs"
   ]
  },
  {
   "cell_type": "markdown",
   "metadata": {},
   "source": [
    "$k = \\sup\\limits_x \\frac{p_{target}(x)}{p_{proposal}(x)} = \\frac{2}{\\sqrt{e}}$"
   ]
  },
  {
   "cell_type": "code",
   "execution_count": 40,
   "metadata": {},
   "outputs": [],
   "source": [
    "pdf_target = lambda x: np.exp(-x**2 / 2)\n",
    "pdf_proposal = lambda x: 1 / (1 + x**2)\n",
    "k = 2 / np.exp(0.5)"
   ]
  },
  {
   "cell_type": "code",
   "execution_count": 41,
   "metadata": {},
   "outputs": [],
   "source": [
    "N = 1000\n",
    "rvs = gen_neumann(gen_cauchy, pdf_proposal, pdf_target, k, N)"
   ]
  },
  {
   "cell_type": "code",
   "execution_count": 42,
   "metadata": {},
   "outputs": [],
   "source": [
    "def my_normplot(rvs, ax=None):\n",
    "    (quants, vals), (k, b, _) = scs.probplot(rvs)\n",
    "    \n",
    "    if not ax:\n",
    "        fig, ax = plt.subplots()\n",
    "    \n",
    "    ax.plot(vals, quants, 'o')\n",
    "    ax.plot(k * quants + b, quants)\n",
    "    ticks_perc = np.array([1, 5, 10, 20, 50, 80, 90, 95, 99])\n",
    "    ticks_quan = scs.norm.ppf(ticks_perc / 100.)\n",
    "    ax.set_yticks(ticks_quan)\n",
    "    ax.set_yticklabels(ticks_perc)\n",
    "    ax.set_xlabel('Sample')\n",
    "    ax.set_ylabel('Probability')\n",
    "    ax.grid('on')"
   ]
  },
  {
   "cell_type": "code",
   "execution_count": 47,
   "metadata": {},
   "outputs": [
    {
     "data": {
      "text/plain": [
       "Text(0.5, 1.0, 'Sample $3X + 1$')"
      ]
     },
     "execution_count": 47,
     "metadata": {},
     "output_type": "execute_result"
    },
    {
     "data": {
      "image/png": "[encoded data removed]",
      "text/plain": [
       "<Figure size 921.6x345.6 with 2 Axes>"
      ]
     },
     "metadata": {
      "needs_background": "light"
     },
     "output_type": "display_data"
    }
   ],
   "source": [
    "fig, (ax1, ax2) = plt.subplots(1, 2, figsize=(12.8, 4.8))\n",
    "\n",
    "my_normplot(rvs, ax1)\n",
    "ax1.set_title(r'Sample ${X}$')\n",
    "my_normplot(3 * rvs + 1, ax2)\n",
    "ax2.set_title(r'Sample $3X + 1$')"
   ]
  },
  {
   "cell_type": "code",
   "execution_count": 48,
   "metadata": {},
   "outputs": [],
   "source": [
    "fig.dpi = 300\n",
    "fig.savefig(\"report/figures/04_normplot.png\", bbox_inches='tight')"
   ]
  },
  {
   "cell_type": "markdown",
   "metadata": {},
   "source": [
    "Строим соответствие вероятностей нормального распределения и выборочных квантилей"
   ]
  },
  {
   "cell_type": "markdown",
   "metadata": {},
   "source": [
    "## 4.3"
   ]
  },
  {
   "cell_type": "code",
   "execution_count": 51,
   "metadata": {},
   "outputs": [
    {
     "name": "stderr",
     "output_type": "stream",
     "text": [
      "100%|██████████| 20/20 [00:08<00:00,  1.34s/it]\n"
     ]
    }
   ],
   "source": [
    "N_RUNS = 10\n",
    "N_SIZES = 20\n",
    "\n",
    "sizes = np.logspace(2, 6, N_SIZES).astype(np.int64)\n",
    "times_polar = np.zeros((N_SIZES, N_RUNS))\n",
    "times_neumannn = np.zeros((N_SIZES, N_RUNS))\n",
    "times_numpy = np.zeros((N_SIZES, N_RUNS))\n",
    "\n",
    "for i, sz in enumerate(tqdm(sizes)):\n",
    "    for j in range(N_RUNS):\n",
    "        \n",
    "        start = time()\n",
    "        rvs = gen_neumann(gen_cauchy, pdf_proposal, pdf_target, k, sz)\n",
    "        stop = time()\n",
    "        times_neumannn[i][j] = stop - start\n",
    "        \n",
    "        start = time()\n",
    "        rvs = gen_norm_polar(sz)\n",
    "        stop = time()\n",
    "        times_polar[i][j] = stop - start\n",
    "        \n",
    "        start = time()\n",
    "        rvs = rnd.randn(sz)\n",
    "        stop = time()\n",
    "        times_numpy[i][j] = stop - start"
   ]
  },
  {
   "cell_type": "code",
   "execution_count": 52,
   "metadata": {},
   "outputs": [
    {
     "data": {
      "image/png": "[encoded data removed]",
      "text/plain": [
       "<Figure size 432x288 with 1 Axes>"
      ]
     },
     "metadata": {
      "needs_background": "light"
     },
     "output_type": "display_data"
    }
   ],
   "source": [
    "fig, ax = plt.subplots()\n",
    "\n",
    "ax.plot(sizes, np.median(times_neumannn, axis=1), label='neumann')\n",
    "ax.plot(sizes, np.median(times_polar, axis=1), label='polar')\n",
    "ax.plot(sizes, np.median(times_numpy, axis=1), label='numpy')\n",
    "\n",
    "ax.set_xlabel('Sample size')\n",
    "ax.set_ylabel('time, s')\n",
    "ax.set_xscale('log')\n",
    "ax.set_yscale('log')\n",
    "ax.grid('on')\n",
    "ax.legend()\n",
    "plt.show()"
   ]
  },
  {
   "cell_type": "code",
   "execution_count": 53,
   "metadata": {},
   "outputs": [],
   "source": [
    "fig.dpi = 300\n",
    "fig.savefig(\"report/figures/04_times.png\", bbox_inches='tight')"
   ]
  },
  {
   "cell_type": "markdown",
   "metadata": {},
   "source": [
    "# Задание 5"
   ]
  },
  {
   "cell_type": "markdown",
   "metadata": {},
   "source": [
    "## 5.1"
   ]
  },
  {
   "cell_type": "code",
   "execution_count": 63,
   "metadata": {},
   "outputs": [
    {
     "data": {
      "image/png": "[encoded data removed]",
      "text/plain": [
       "<Figure size 432x288 with 1 Axes>"
      ]
     },
     "metadata": {
      "needs_background": "light"
     },
     "output_type": "display_data"
    }
   ],
   "source": [
    "N = 10000\n",
    "\n",
    "rvs = rnd.randn(N)\n",
    "n = np.arange(1, N + 1)\n",
    "means = rvs.cumsum() / n\n",
    "\n",
    "fig, ax = plt.subplots()\n",
    "\n",
    "ax.plot(n, means)\n",
    "ax.plot(n, np.full_like(n, 0))\n",
    "ax.set_xlabel('Sample size')\n",
    "ax.set_ylabel('mean')\n",
    "ax.set_xscale('log')\n",
    "ax.grid('on')\n",
    "plt.show()"
   ]
  },
  {
   "cell_type": "code",
   "execution_count": 64,
   "metadata": {},
   "outputs": [],
   "source": [
    "fig.dpi = 300\n",
    "fig.savefig(\"report/figures/05_lln.png\", bbox_inches='tight')"
   ]
  },
  {
   "cell_type": "code",
   "execution_count": 67,
   "metadata": {},
   "outputs": [
    {
     "data": {
      "image/png": "[encoded data removed]",
      "text/plain": [
       "<Figure size 432x288 with 1 Axes>"
      ]
     },
     "metadata": {
      "needs_background": "light"
     },
     "output_type": "display_data"
    }
   ],
   "source": [
    "N_SAMPLES = 1000\n",
    "\n",
    "fig, ax = plt.subplots()\n",
    "\n",
    "rvs = rnd.randn(N_SAMPLES, N)\n",
    "stats = rvs.sum(axis=1) / np.sqrt(N)\n",
    "\n",
    "sm.qqplot(stats, line='45', ax=ax);"
   ]
  },
  {
   "cell_type": "code",
   "execution_count": 68,
   "metadata": {},
   "outputs": [],
   "source": [
    "fig.dpi = 300\n",
    "fig.savefig(\"report/figures/05_clt.png\", bbox_inches='tight')"
   ]
  },
  {
   "cell_type": "markdown",
   "metadata": {},
   "source": [
    "## 5.2"
   ]
  },
  {
   "cell_type": "markdown",
   "metadata": {},
   "source": [
    "Пусть $\\alpha$ — заданный уровень доверия, $m_n$ — выборочное математическое ожидание,\n",
    "$s^2_n$ — несмещенная выборочная дисперсия.\n",
    "Тогда статистика $\\xi_n = \\sqrt{n}\\frac{m_n - \\mu}{s_n} \\sim St(n - 1)$.\n",
    "Распределение Стьюдента симметрично, откуда доверительный интервал:\n",
    "\n",
    "$$\\mathbb{P}\\left(\\mu \\in \\left( m_n - \\frac{s_n\\gamma}{\\sqrt{n}}, m_n + \\frac{s_n\\gamma}{\\sqrt{n}} \\right) \\right) > \\alpha,$$\n",
    "если положить $\\gamma$ равной квантили порядка $(1 + \\alpha)/2$ распределения $St(n-1)$"
   ]
  },
  {
   "cell_type": "code",
   "execution_count": 69,
   "metadata": {},
   "outputs": [],
   "source": [
    "ALPHA = 0.95\n",
    "N = 15\n",
    "sizes = np.logspace(1, 5, N).astype(int)\n",
    "means = np.zeros(N)\n",
    "err = np.zeros(N)\n",
    "\n",
    "for i, n in enumerate(sizes):\n",
    "    rvs = rnd.randn(n)\n",
    "    means[i] = rvs.mean()\n",
    "    s = np.sqrt(rvs.var(ddof=1))\n",
    "    gamma = scs.t.ppf((1 + ALPHA) / 2, n - 1)\n",
    "    err[i] = s * gamma / np.sqrt(n)"
   ]
  },
  {
   "cell_type": "code",
   "execution_count": 71,
   "metadata": {},
   "outputs": [
    {
     "data": {
      "image/png": "[encoded data removed]",
      "text/plain": [
       "<Figure size 432x288 with 1 Axes>"
      ]
     },
     "metadata": {
      "needs_background": "light"
     },
     "output_type": "display_data"
    }
   ],
   "source": [
    "fig, ax = plt.subplots()\n",
    "\n",
    "ax.errorbar(sizes, means, yerr=err, capsize=6, elinewidth=1)\n",
    "ax.set_xscale('log')\n",
    "ax.set_xlabel('Sample size')\n",
    "ax.set_ylabel('Mean')\n",
    "ax.grid('on')\n",
    "plt.show()"
   ]
  },
  {
   "cell_type": "code",
   "execution_count": 72,
   "metadata": {},
   "outputs": [],
   "source": [
    "fig.dpi = 300\n",
    "fig.savefig(\"report/figures/05_mean.png\", bbox_inches='tight')"
   ]
  },
  {
   "cell_type": "markdown",
   "metadata": {},
   "source": [
    "Пусть теперь $s^2_n$ — смещенная выборочная дисперсия.\n",
    "Статистика $\\eta_n = \\frac{n s^2_n}{\\sigma^2}$ распределена по закону $\\chi^2_{n-1}$.\n",
    "Тогда для заданного уровня доверия $\\alpha$:\n",
    "$$\\mathbb{P}\\left(\\sigma^2 \\in \\left( \\frac{n s^2_n}{\\gamma_1}, \\frac{n s^2_n}{\\gamma_2} \\right) \\right) > \\alpha,$$\n",
    "если положить $\\gamma_i$ раными квантилям порядка $(1 - \\alpha)/2$ и $(1 + \\alpha)/2$ распределения $\\chi^2_{n-1}$."
   ]
  },
  {
   "cell_type": "code",
   "execution_count": 73,
   "metadata": {},
   "outputs": [],
   "source": [
    "ALPHA = 0.95\n",
    "N = 10\n",
    "sizes = np.logspace(1, 5, N).astype(int)\n",
    "var = np.zeros(N)\n",
    "err = np.zeros((2, N))\n",
    "\n",
    "for i, n in enumerate(sizes):\n",
    "    rvs = rnd.randn(n)\n",
    "    var[i] = rvs.var()\n",
    "    gamma1 = scs.chi2.ppf((1 + ALPHA) / 2, n - 1)\n",
    "    gamma2 = scs.chi2.ppf((1 - ALPHA) / 2, n - 1)\n",
    "    err[0, i] = -n * var[i] / gamma1 + var[i]\n",
    "    err[1, i] = n * var[i] / gamma2 - var[i]    "
   ]
  },
  {
   "cell_type": "code",
   "execution_count": 74,
   "metadata": {},
   "outputs": [
    {
     "data": {
      "image/png": "[encoded data removed]",
      "text/plain": [
       "<Figure size 432x288 with 1 Axes>"
      ]
     },
     "metadata": {
      "needs_background": "light"
     },
     "output_type": "display_data"
    }
   ],
   "source": [
    "fig, ax = plt.subplots()\n",
    "\n",
    "ax.errorbar(sizes, var, yerr=err, capsize=6, elinewidth=1)\n",
    "ax.set_xscale('log')\n",
    "ax.set_xlabel('Sample size')\n",
    "ax.set_ylabel('Variance')\n",
    "ax.grid('on')\n",
    "plt.show()"
   ]
  },
  {
   "cell_type": "code",
   "execution_count": 75,
   "metadata": {},
   "outputs": [],
   "source": [
    "fig.dpi = 300\n",
    "fig.savefig(\"report/figures/05_var.png\", bbox_inches='tight')"
   ]
  },
  {
   "cell_type": "markdown",
   "metadata": {},
   "source": [
    "## 5.3"
   ]
  },
  {
   "cell_type": "markdown",
   "metadata": {},
   "source": [
    "Пусть $\\xi \\sim \\mathcal{C}(0, 1)$.\n",
    "Распределение Коши относится к семейству сдвиг-масштабных распределений.\n",
    "Поэтому $a\\xi + b \\sim \\mathcal{C}(a, b)$.\n",
    "отсюда, если $\\xi_n \\sim \\mathcal{C}(a, b)$, то и $S_n/n \\sim \\mathcal{C}(a, b)$."
   ]
  },
  {
   "cell_type": "code",
   "execution_count": 76,
   "metadata": {},
   "outputs": [
    {
     "data": {
      "image/png": "[encoded data removed]",
      "text/plain": [
       "<Figure size 432x288 with 1 Axes>"
      ]
     },
     "metadata": {
      "needs_background": "light"
     },
     "output_type": "display_data"
    }
   ],
   "source": [
    "N = 10000\n",
    "\n",
    "n = np.arange(1, N + 1)\n",
    "rvs = gen_cauchy(N)\n",
    "means = rvs.cumsum() / n\n",
    "\n",
    "fig, ax = plt.subplots()\n",
    "\n",
    "ax.plot(n, means)\n",
    "ax.plot(n, np.full_like(n, 0))\n",
    "ax.set_xscale('log')\n",
    "ax.set_xlabel('Sample size')\n",
    "ax.set_ylabel(r'$S_n/n$')\n",
    "ax.grid('on')\n",
    "plt.show()"
   ]
  },
  {
   "cell_type": "code",
   "execution_count": 77,
   "metadata": {},
   "outputs": [],
   "source": [
    "fig.dpi = 300\n",
    "fig.savefig(\"report/figures/05_cmeans.png\", bbox_inches='tight')"
   ]
  },
  {
   "cell_type": "code",
   "execution_count": 97,
   "metadata": {},
   "outputs": [
    {
     "data": {
      "image/png": "[encoded data removed]",
      "text/plain": [
       "<Figure size 432x288 with 1 Axes>"
      ]
     },
     "metadata": {
      "needs_background": "light"
     },
     "output_type": "display_data"
    }
   ],
   "source": [
    "N = 1000\n",
    "N_SAMPLES = 1000\n",
    "\n",
    "fig, ax = plt.subplots()\n",
    "\n",
    "rvs = gen_cauchy(N_SAMPLES, N)\n",
    "\n",
    "sm.qqplot(rvs.mean(axis=1), dist=scs.cauchy, line='45', ax=ax);"
   ]
  },
  {
   "cell_type": "code",
   "execution_count": 98,
   "metadata": {},
   "outputs": [],
   "source": [
    "fig.dpi = 300\n",
    "fig.savefig(\"report/figures/05_cqq.png\", bbox_inches='tight')"
   ]
  },
  {
   "cell_type": "markdown",
   "metadata": {},
   "source": [
    "Ну close enought"
   ]
  },
  {
   "cell_type": "markdown",
   "metadata": {},
   "source": [
    "# Задание 6"
   ]
  },
  {
   "cell_type": "markdown",
   "metadata": {},
   "source": [
    "Заметим, что каждая переменная входит с квадратом, и функция инвариантна относительно перестановки аргументов, отсюда следует, что можно сильно сократить сетку (в 2 раза по каждой переменной).\n",
    "Чтобы не ставить торч, можно запустить прямо в колабе:\n",
    "https://colab.research.google.com/drive/16q000saiJyjYp-o5B7nyt9PDTK4zOePi?usp=sharing"
   ]
  },
  {
   "cell_type": "code",
   "execution_count": null,
   "metadata": {
    "scrolled": true
   },
   "outputs": [],
   "source": [
    "import torch\n",
    "\n",
    "torch.cuda.is_available() "
   ]
  },
  {
   "cell_type": "code",
   "execution_count": null,
   "metadata": {},
   "outputs": [],
   "source": [
    "device = torch.device('cuda')\n",
    "device"
   ]
  },
  {
   "cell_type": "code",
   "execution_count": null,
   "metadata": {},
   "outputs": [],
   "source": [
    "def func(x: torch.tensor):\n",
    "    tg_sq = torch.tan(x)**2\n",
    "    s = (torch.sin(x)**2).prod(dim=-1)\n",
    "    res = torch.zeros_like(s).to(x.device)\n",
    "\n",
    "    # экспонента побеждает квадрат\n",
    "    idx = torch.abs(s) > torch.finfo(s.dtype).eps\n",
    "    res[idx] = torch.exp(-tg_sq.sum(dim=-1)[idx] - \n",
    "                         1 / (128.0 * tg_sq.prod(dim=-1)[idx])) / s[idx]\n",
    "\n",
    "    return res"
   ]
  },
  {
   "cell_type": "code",
   "execution_count": null,
   "metadata": {},
   "outputs": [],
   "source": [
    "class IdxIterator:\n",
    "\n",
    "    def __init__(self, x_dim, n_grid, bs):\n",
    "        self.x_dim = x_dim\n",
    "        self.n_grid = n_grid\n",
    "        self.bs = bs\n",
    "        self.ok = True\n",
    "\n",
    "    def __iter__(self):\n",
    "        self.cur_idx = torch.zeros(self.x_dim, dtype=torch.int64)\n",
    "        self.cur_idx[-1] = -1\n",
    "        self.comp = torch.arange(self.n_grid).reshape(-1, 1)\n",
    "        return self\n",
    "    \n",
    "    def __next__(self):\n",
    "\n",
    "        if not self.ok:\n",
    "            raise StopIteration\n",
    "\n",
    "        res = torch.zeros(self.bs, self.x_dim, dtype=torch.int64)\n",
    "        log_coeffs = torch.zeros(self.bs)\n",
    "\n",
    "        for j in range(res.shape[0]):\n",
    "            self.ok = False\n",
    "            \n",
    "            for i in range(1, len(self.cur_idx) + 1):\n",
    "                if self.cur_idx[-i] < self.n_grid - 1:\n",
    "                    self.cur_idx[-i] += 1\n",
    "                    self.cur_idx[-i:] = torch.full_like(self.cur_idx[-i:], self.cur_idx[-i])\n",
    "                    num_rep = (self.comp == self.cur_idx).sum(dim=-1).type(torch.double)\n",
    "                    log_coeffs[j] = torch.lgamma(torch.tensor(1 + self.x_dim, dtype=torch.double)) -\\\n",
    "                       torch.lgamma(1.0 + num_rep).sum()\n",
    "                    self.ok = True\n",
    "                    break\n",
    "\n",
    "            if not self.ok:\n",
    "                return res[:j, :], torch.exp(log_coeffs[:j])\n",
    "            \n",
    "            res[j] = self.cur_idx\n",
    "        return (res, torch.exp(log_coeffs))"
   ]
  },
  {
   "cell_type": "code",
   "execution_count": null,
   "metadata": {},
   "outputs": [],
   "source": [
    "%%time\n",
    "\n",
    "N_GRID = 15\n",
    "X_DIM = 10\n",
    "BS = 2**16\n",
    "\n",
    "start = np.pi / (4 * N_GRID)\n",
    "end = np.pi / 2 - start\n",
    "h = np.pi / (2 * N_GRID)\n",
    "\n",
    "res = torch.tensor(0, dtype=torch.float64).to(device)\n",
    "idx = torch.zeros(X_DIM, dtype=torch.int64).to(device)\n",
    "flat_grid = torch.linspace(start, end, N_GRID, dtype=torch.float64).to(device)\n",
    "idx_iterator = iter(IdxIterator(X_DIM, N_GRID, BS))\n",
    "\n",
    "for idx, coeffs in idx_iterator:\n",
    "    res += (h**X_DIM * coeffs.to(device) * func(flat_grid[idx])).sum()\n",
    "\n",
    "res *= 2**X_DIM # символизирует четность функции по каждой переменной\n",
    "print(res.item())"
   ]
  },
  {
   "cell_type": "markdown",
   "metadata": {},
   "source": [
    "# Метод Монте-Карло"
   ]
  },
  {
   "cell_type": "code",
   "execution_count": null,
   "metadata": {},
   "outputs": [],
   "source": [
    "def g(x: torch.tensor):\n",
    "    prod = (x**2).prod(dim=-1)\n",
    "    res = torch.zeros_like(prod, device=x.device)\n",
    "    idx = torch.abs(prod) > torch.finfo(prod.dtype).eps\n",
    "    res[idx] = np.pi**5 * torch.exp(-1 / (128.0 * prod[idx])) / prod[idx]\n",
    "    return res"
   ]
  },
  {
   "cell_type": "code",
   "execution_count": null,
   "metadata": {},
   "outputs": [],
   "source": [
    "class BatchSampler:\n",
    "    def __init__(self, bs, sigma, dim, n_samples, device):\n",
    "        self.bs = bs\n",
    "        self.sigma = sigma\n",
    "        self.dim = dim\n",
    "        self.n_samples = n_samples\n",
    "        self.device = device\n",
    "    \n",
    "    def __iter__(self):\n",
    "        self.cur_sample = 0\n",
    "        return self\n",
    "    \n",
    "    def __next__(self):\n",
    "        \n",
    "        if self.cur_sample == self.n_samples:\n",
    "            raise StopIteration\n",
    "\n",
    "        n = min(self.n_samples - self.cur_sample, self.bs)\n",
    "        self.cur_sample += n\n",
    "        return self.sigma * torch.randn(n, self.dim).to(device), n"
   ]
  },
  {
   "cell_type": "code",
   "execution_count": null,
   "metadata": {},
   "outputs": [],
   "source": [
    "%%time\n",
    "\n",
    "BS = 10**7\n",
    "X_DIM = 10\n",
    "N_SAMPLES = 10**10\n",
    "\n",
    "batch_sampler = BatchSampler(BS, 1 / np.sqrt(2), X_DIM, N_SAMPLES, device)\n",
    "\n",
    "res = 0\n",
    "n_prev = n_cur = 0\n",
    "m = 0\n",
    "for sample, n_cur in batch_sampler:\n",
    "    cur = g(sample).mean()\n",
    "    m += (cur - m) * n_cur / (n_cur + n_prev)\n",
    "    n_prev += n_cur\n",
    "\n",
    "print(m.item())"
   ]
  },
  {
   "cell_type": "code",
   "execution_count": null,
   "metadata": {},
   "outputs": [],
   "source": [
    "sample = 1 / np.sqrt(2) * torch.randn(BS, X_DIM).to(device) # оценка дисперсии интеграла\n",
    "alpha = 0.05\n",
    "var = g(sample).var().item()\n",
    "eps = np.sqrt(var / N_SAMPLES / alpha) # нер-во Чебышева\n",
    "eps"
   ]
  }
 ],
 "metadata": {
  "kernelspec": {
   "display_name": "Python 3",
   "language": "python",
   "name": "python3"
  },
  "language_info": {
   "codemirror_mode": {
    "name": "ipython",
    "version": 3
   },
   "file_extension": ".py",
   "mimetype": "text/x-python",
   "name": "python",
   "nbconvert_exporter": "python",
   "pygments_lexer": "ipython3",
   "version": "3.7.6"
  }
 },
 "nbformat": 4,
 "nbformat_minor": 4
}
